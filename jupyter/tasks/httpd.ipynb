{
 "cells": [
  {
   "cell_type": "markdown",
   "id": "427d3775-de5f-4cc8-a5e5-01192a1d1d57",
   "metadata": {},
   "source": [
    "# Устанавливаем вебсервер Apache (httpd)"
   ]
  },
  {
   "cell_type": "markdown",
   "id": "2d91309f-4e6e-404b-93cd-85204a759180",
   "metadata": {},
   "source": [
    "#### Настройка окружения"
   ]
  },
  {
   "cell_type": "markdown",
   "id": "ff2c15a1-cccd-45d7-8b8c-577041fa1985",
   "metadata": {},
   "source": [
    "Сперва настраиваем jupyter notebook, чтобы он подключился к тестовому докер образу:"
   ]
  },
  {
   "cell_type": "code",
   "execution_count": null,
   "id": "cad6349c-2cc6-492c-bb90-e70f3fe013e5",
   "metadata": {},
   "outputs": [],
   "source": [
    "%param node1 labs-node1\n",
    "%login root@node1"
   ]
  },
  {
   "cell_type": "markdown",
   "id": "f387ce76-2945-4829-bd37-7f8a80c5f8cd",
   "metadata": {},
   "source": [
    "#### Установка вебсервера"
   ]
  },
  {
   "cell_type": "markdown",
   "id": "8c458147-9261-427d-b920-a25f7dfa5949",
   "metadata": {},
   "source": [
    "На разных дистрибутивах пакеты могут называть по разному. В случае в вебсервером Apache2, на многих дистрибутивах, основанных на RHEL, пакет называется httpd, а на Debian-based дистрибутивах - apache2."
   ]
  },
  {
   "cell_type": "markdown",
   "id": "5ccec9ee-28d7-4991-87ce-b60c329121ef",
   "metadata": {},
   "source": [
    "Установим пакет:"
   ]
  },
  {
   "cell_type": "code",
   "execution_count": null,
   "id": "9dd7c253-a21c-49f8-8cfe-8eb806beee2a",
   "metadata": {},
   "outputs": [],
   "source": [
    "dnf install httpd -y"
   ]
  },
  {
   "cell_type": "markdown",
   "id": "90940026-2578-4d3d-a3c2-846aecb4f5c3",
   "metadata": {},
   "source": [
    "#### Запуск"
   ]
  },
  {
   "cell_type": "markdown",
   "id": "45f6db60-051a-4816-8363-869c6b19fd4e",
   "metadata": {},
   "source": [
    "После установки проверим состояние вебсервера:"
   ]
  },
  {
   "cell_type": "markdown",
   "id": "14ba8b3c-b10b-48f1-ad6e-9e339f6e02f5",
   "metadata": {},
   "source": [
    "> ℹ️ Как и в случае с названием пакета, название сервиса может отличаться на разных дистрибутивах"
   ]
  },
  {
   "cell_type": "markdown",
   "id": "93c4742e-fc71-49fd-b350-aa3b16891c0c",
   "metadata": {},
   "source": [
    "> ℹ️ На некоторых дистрибутивах некоторые сервисы могут запуститься после установки в зависимости от настроек пакета и скриптов в них"
   ]
  },
  {
   "cell_type": "code",
   "execution_count": null,
   "id": "0f5cf3c0-c4c1-44d7-8288-4c10c67aa3ec",
   "metadata": {},
   "outputs": [],
   "source": [
    "systemctl status httpd"
   ]
  },
  {
   "cell_type": "markdown",
   "id": "1c928319-42a3-4065-b25b-55939d2e167b",
   "metadata": {},
   "source": [
    "Если сервис не запущен, его можно запустить с помощью следующей команды:"
   ]
  },
  {
   "cell_type": "code",
   "execution_count": null,
   "id": "50ea8efc-ddbb-40d2-964e-e4e75a192a87",
   "metadata": {},
   "outputs": [],
   "source": [
    "systemctl start httpd"
   ]
  },
  {
   "cell_type": "markdown",
   "id": "fb28f532-e780-4435-9588-e95e9ab82b1b",
   "metadata": {},
   "source": [
    "А чтобы сервис оставался активным после перезагрузки, его нужно \"включить\" в systemd:"
   ]
  },
  {
   "cell_type": "code",
   "execution_count": null,
   "id": "b7588e1c-1fc9-4e89-ab63-db2f29871160",
   "metadata": {},
   "outputs": [],
   "source": [
    "systemctl enable httpd"
   ]
  },
  {
   "cell_type": "markdown",
   "id": "c990ca51-d594-4512-8860-42ee60f25cee",
   "metadata": {},
   "source": [
    "> ℹ️ Две предыдущие команды можно совместить в одну:"
   ]
  },
  {
   "cell_type": "code",
   "execution_count": null,
   "id": "d518ca43-b27a-4d4e-b3d2-f036d88ab484",
   "metadata": {},
   "outputs": [],
   "source": [
    "systemctl enable --now httpd"
   ]
  }
 ],
 "metadata": {
  "kernelspec": {
   "display_name": "SSH",
   "language": "bash",
   "name": "ssh"
  },
  "language_info": {
   "codemirror_mode": "shell",
   "file_extension": ".sh",
   "mimetype": "text/x-sh",
   "name": "ssh"
  }
 },
 "nbformat": 4,
 "nbformat_minor": 5
}
